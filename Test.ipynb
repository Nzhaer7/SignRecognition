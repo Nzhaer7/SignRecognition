{
 "cells": [
  {
   "cell_type": "code",
   "execution_count": 112,
   "id": "284d42d3",
   "metadata": {},
   "outputs": [],
   "source": [
    "import pandas as pd\n",
    "import numpy as np\n",
    "import cv2\n",
    "import pickle as pkl\n",
    "import matplotlib.pyplot as plt"
   ]
  },
  {
   "cell_type": "code",
   "execution_count": 119,
   "id": "e0cdec59",
   "metadata": {},
   "outputs": [],
   "source": [
    "test = pd.read_csv('sign_test.csv')"
   ]
  },
  {
   "cell_type": "code",
   "execution_count": 120,
   "id": "628ec254",
   "metadata": {},
   "outputs": [],
   "source": [
    "test_set = np.array(test, dtype='float32')"
   ]
  },
  {
   "cell_type": "code",
   "execution_count": 121,
   "id": "f77c1635",
   "metadata": {},
   "outputs": [],
   "source": [
    "class_names = ['A', 'B', 'C', 'D', 'E', 'F', 'G', 'H', 'I', 'J', 'K', 'L', 'M', 'N', 'O', 'P', 'Q', 'R', 'S', 'T', 'U', 'V', 'W', 'X', 'Y' ]"
   ]
  },
  {
   "cell_type": "code",
   "execution_count": 127,
   "id": "e7cc3cde",
   "metadata": {},
   "outputs": [],
   "source": [
    "test=cv2.imread('test.jpg')"
   ]
  },
  {
   "cell_type": "code",
   "execution_count": 128,
   "id": "d5df36f0",
   "metadata": {},
   "outputs": [],
   "source": [
    "test=cv2.cvtColor(test, cv2.COLOR_BGR2GRAY)"
   ]
  },
  {
   "cell_type": "code",
   "execution_count": 129,
   "id": "2b2c7cfc",
   "metadata": {},
   "outputs": [],
   "source": [
    "test=np.array(test)"
   ]
  },
  {
   "cell_type": "code",
   "execution_count": 131,
   "id": "3bc24930",
   "metadata": {},
   "outputs": [],
   "source": [
    "test=test.reshape(1,28,28,1)"
   ]
  },
  {
   "cell_type": "code",
   "execution_count": 54,
   "id": "6c047a21",
   "metadata": {},
   "outputs": [],
   "source": [
    "model=pkl.load(open(\"trained_model.pkl\",\"rb\"))"
   ]
  },
  {
   "cell_type": "code",
   "execution_count": 134,
   "id": "e2f1d3cf",
   "metadata": {},
   "outputs": [],
   "source": [
    "pred=model.predict_classes(test)"
   ]
  },
  {
   "cell_type": "code",
   "execution_count": 138,
   "id": "3c55b45d",
   "metadata": {},
   "outputs": [],
   "source": [
    "class_names = ['A', 'B', 'C', 'D', 'E', 'F', 'G', 'H', 'I', 'J', 'K', 'L', 'M', 'N', 'O', 'P', 'Q', 'R', 'S', 'T', 'U', 'V', 'W', 'X', 'Y' ]"
   ]
  },
  {
   "cell_type": "code",
   "execution_count": 141,
   "id": "2535be04",
   "metadata": {},
   "outputs": [
    {
     "data": {
      "text/plain": [
       "Text(0.5, 1.0, 'prediction = 21\\n true class = V')"
      ]
     },
     "execution_count": 141,
     "metadata": {},
     "output_type": "execute_result"
    },
    {
     "data": {
      "image/png": "[encoded data removed]",
      "text/plain": [
       "<Figure size 360x360 with 1 Axes>"
      ]
     },
     "metadata": {
      "needs_background": "light"
     },
     "output_type": "display_data"
    }
   ],
   "source": [
    "pred=int(pred)\n",
    "label_index=int(y_test[pred])\n",
    "fig, axes = plt.subplots(figsize = (5,5))\n",
    "axes.imshow(test.reshape(28,28))\n",
    "axes.set_title(f\"prediction = {pred}\\n true class = {class_names[pred]}\")\n"
   ]
  },
  {
   "cell_type": "code",
   "execution_count": null,
   "id": "4a9db387",
   "metadata": {},
   "outputs": [],
   "source": []
  }
 ],
 "metadata": {
  "kernelspec": {
   "display_name": "Python 3 (ipykernel)",
   "language": "python",
   "name": "python3"
  },
  "language_info": {
   "codemirror_mode": {
    "name": "ipython",
    "version": 3
   },
   "file_extension": ".py",
   "mimetype": "text/x-python",
   "name": "python",
   "nbconvert_exporter": "python",
   "pygments_lexer": "ipython3",
   "version": "3.7.8"
  }
 },
 "nbformat": 4,
 "nbformat_minor": 5
}
